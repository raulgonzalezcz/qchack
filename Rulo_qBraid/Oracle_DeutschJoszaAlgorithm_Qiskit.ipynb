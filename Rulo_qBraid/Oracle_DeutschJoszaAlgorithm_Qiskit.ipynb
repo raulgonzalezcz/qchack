{
 "cells": [
  {
   "cell_type": "markdown",
   "id": "complimentary-institute",
   "metadata": {
    "id": "complimentary-institute",
    "slideshow": {
     "slide_type": "slide"
    }
   },
   "source": [
    "<div style=\"text-align: center; margin: 50px\">\n",
    "\n",
    "<h1 style=\"text-align: center;\">Oracles and Deutsch-Josza Algorithm in Qiskit</h1>\n",
    "<h2>Team Rulo_qBraid</h2>\n",
    "    <h4>(We are open to more suggestions and code!)</h4>\n",
    "</div>"
   ]
  },
  {
   "cell_type": "markdown",
   "id": "dressed-walter",
   "metadata": {
    "id": "dressed-walter",
    "slideshow": {
     "slide_type": "slide"
    }
   },
   "source": [
    "# Overview \n",
    "1. [Introduction](#introduction) <br>\n",
    "2. [The Deutsch-Josza Oracle](#djoracle) <br>\n",
    "3. [More ideas](#challenge) <br>"
   ]
  },
  {
   "cell_type": "markdown",
   "id": "above-addiction",
   "metadata": {
    "id": "above-addiction",
    "slideshow": {
     "slide_type": "slide"
    }
   },
   "source": [
    "<a id=\"introduction\"></a>\n",
    "# 1. Introduction"
   ]
  },
  {
   "cell_type": "markdown",
   "id": "downtown-stock",
   "metadata": {
    "id": "downtown-stock"
   },
   "source": [
    "As part of QCHack 2021 Challenge List, we have seen/heard **oracles** in the context of Grover's algorithm (Microsoft challenge). However, this team thinks that it could be also great to have some code in Qiskit to discover, analyze and get some fun with oracles. Due to the few knowledge/ experience, we decided to understand and implement Deutsch-Josza (DJ) algorithm that we will use to determine if a function is constant or balanced with just one check, expressing the function as ... Yes! As an **oracle**. For us, DJ Algorithm is really simple to understand and implement, so we hope you enjoy this notebook."
   ]
  },
  {
   "cell_type": "markdown",
   "id": "distinguished-winner",
   "metadata": {},
   "source": [
    "### <a id=\"djoracle\"></a>\n",
    "# 2. The Deutsch-Josza Algorithm (oracle coming soon)"
   ]
  },
  {
   "cell_type": "markdown",
   "id": "copyrighted-engagement",
   "metadata": {},
   "source": [
    "The Deutsch-Josza (DJ) algorithm allows us to determine if the function is constant or balanced with just one check, remembering we express the function as an **oracle**. We know that we want our quantum states to be modified by the application of the function, so that we can figure out if the function is constant or balanced. Therefore, we will have to express the function in the form of an operator, or a gate. Also, just like all other quantum operators, the gate we make for the function will have to be reversible. An **oracle** is exactly this reversible gate form of the function we want to check.\n",
    "\n",
    "This is true for a lot of quantum algorithms, so we need to express the problem in terms of an oracle to make a quantum circuit to solve it. In this notebook, we will look at how a function that takes in a 1-bit input can be expressed as an oracle for the DJ algorithm."
   ]
  },
  {
   "cell_type": "markdown",
   "id": "designing-keyboard",
   "metadata": {},
   "source": [
    "For the DJ algorithm, we will call our oracle $U_f$. Here is what the oracle we will look like:"
   ]
  },
  {
   "cell_type": "markdown",
   "id": "chicken-piece",
   "metadata": {},
   "source": [
    "\n",
    "![image.png](data:image/png;base64,iVBORw0KGgoAAAANSUhEUgAAARcAAADwCAYAAAAq5SBaAAAgAElEQVR4Ae2dB5QURdeGlyWpgMiHKIoKKCh6QCQHFVBRwidByRkXJC9LkrCABAE/oggsQbLiooCAhAUkSs4SFQEBSUrOUeD+5y3/HmeH3tnu6Z61e/atc+bMTHdVdfVT1W9X3brVHSYMJEACJBAEAmFByJNZkgAJkIBQXNgISIAEgkKA4hIUrMyUBEiA4sI2QAIkEBQCFJegYGWmJEACFBe2ARIggaAQoLgEBSszJQESoLiwDZAACQSFAMUlKFiZKQmQAMWFbYAESCAoBCguQcHKTEmABCgubAMkQAJBIWCbuMyYMUPKli0rpUqVkjJlyvBDBmwDLm0DuIbr1asnW7dutSQ6tolLv/79JSwsjB8yYBsIgTaQNWtWiYuLc4a4DBw0SMLDw9mwQqBh8SbBm2SuXLlkyZIlzhOXbNmySaNGjSS6e7R0+qgTP2TANuDwNtCjZw+pVr2ap3PgWHEpWbKkrF+/Xq5cuSKXLl3ihwzYBhzeBq5evSpz5syRVKlSKYFxrLiULl1afvnlF0tdKiYmARJIWgIrVqyQ1KlTO1tcYG3etWtX0pLh0UiABCwR+OGHHygulggyMQmQgC4BiosuFm4kARKwSoDiYpUg05MACegSoLjoYuFGEiABqwQoLlYJMj0JkIAuAYqLLhZuJAESsEqA4mKVINOTAAnoEqC46GLhRhIgAasEKC5WCTI9CZCALgGKiy4WbiQBErBKgOJilSDTkwAJ6BKguOhi4UYSIAGrBCguVgkyPQmQgC4BiosuFm4kARKwSoDiYpUg05MACegSoLjoYuFGEiABqwQoLlYJMj0JkIAuAYqLLhZuJAESsEqA4mKVINOTAAnoEqC46GLhRhIgAasEKC5WCTI9CZCALgGKiy4WbiQBErBKgOJilSDTkwAJ6BKguOhi4UYSIAGrBCguVgkyPQmQgC4BiosuFm4kARKwSoDiYpUg05MACegSoLjoYuFGEiABqwQoLlYJMj0JkIAuAceKy9BhwyQ8PFzCwsKkVKlSsmvXLt0TMLtxw4b10r17d2nUqJFENImQqVOnysWLF1U2+/btkwEDBkjr1q3VJzY2Vq5cuWL2EIxPAo4jcODAAenXr580bdpUGjZsKJ9/PlyOHTumynnmzBkZMWKEREZGSqtWrSQmJkb+/PNPy+fgLS65c+eWFStWWMoz7PvvvxernyVLlkj9+vUlRYoUtonLvXv3ZPTo0dKmTWuZM2eOLFq0SEbFjJKiRYsqsVm4cKF069ZNJkyYICtXrpSePXvK008/raBbIsLEJPAvE5g/f75ERETI119/Lbi2vvzqSylX7h11jS1fvlz69u0rQ4cOVRf/qFGj5Pnnn5c2bdpYLrW3uGTNmlV69eolCxYsCFgfwrJnzy5WP88++6xkzJhRCYtdPZcxY8ZIgwYNZMOGDR5od+/elRo1akiGDBkkX758SkiuX78up0+fVnFxbCg5Awm4lQAu8GrVqgkE5q+//vKcBnoxqVKlkjx58kiHDh3k7NmzcuvWLSUAaPclS5YUXB9Wgre44FiPPZZFcuTIEbA+hKFgdn+sDou2bd0m9erVU8rtC6tt27aqvK++9qocPHhQ7T5x4oQSnYIFC8rixYt9k/A/CbiCwOHDh9VQBz0T3zBp0iTV7p955hlZtWqV2n3l8hXp3LmzYAgzduxYQW/fSvAWF1s0IV26dGL18/DDD0vKlCk9ImVVXMZPGC/9+/eXy5cvx2OF/3Xq1FHH6dq1q9y5c0fth2LvP7Bf9uzZo9Q8XiL+IQGXEICNo3379oKbpXe4ffu2Ggrhgi9fvrzcvHnz7933RNlhtv+03RZbo6+4oPeSPn36gPUhbPXq1WL1s2bNGmneooVtNpejR4/KH3/84c1X/d65c6eyucC2M3ny5Pv2cwMJuJkAhjqHDh267xQgNjVr1lQ3VYhPsIK3uDz55JMyePBgS9oQZldBPx8xIiizRd7lmz59ulJSdAPXrl3rvYu/SSBkCWzevFnZPTJnzizTpk0L2nl6iwuMxFavMdvEZeCgQUEXF0xJo2sIo65ezyZo1JkxCfyLBGbMmKFGBYUKFZLdu3cHrSTe4pIrVy41U2XlYK4Rl6tXr0rdunWVuGAK2tcyjv0Af/LkSSs8mJYEHEUAM0awP+KmWrFixX/sLf9fSswY7d+/X3777TfL5U4W4gKby8yZM+XXX3/1AIOxtkSJEgryuHHjPNu1H/DV6dGjh8D5iIEE3Ejg/Pnzyqdk48aNnuLDOU6bxNDzZfnpp5+kU6dOsmnTJk+aQH+EvLgAcFRUlGTLlk3N4d+98/fcPZyGUqdOLZkyZZJ58+bF4wdfF/i3wOnnxo0b8fbxDwm4gQDa7fDhw5VtpVatWp7Zn0WLFyk7Y5o0aWTIkCHxTgW9988++0z5eF26dCnevkD+hLy4YNkAHOTQDYT3LcK2bdvkww8/lMKFC6spb7g7a+H6jetKVCAu6PEwkIAbCcCGWKVKFdXu4SSHcPz4cfnoo4+Ug1zatGmlWbNm8U5t4sSJylSwffv2eNsD/RPy4nLhwgXlgfjcc89K9+7RarzZuHFj+eabb5QfC9yiYWxCV3DgwIEKeJ8+vdW4M1CoTEcC/zYB9L5HjhwpOXPmkObNm6keCdYVoTeDNXRwrIMDHQRm2LBhai0dhGfzZuvDIe3cQ15ccKJQ8XXr1srcuXNk1qxZsm7dOrl27ZpicOrUKbVt/Pjxas3RsqXLBNsYSMDtBLAgd9OmjYJ1c5ghwpo5LFJEQPuPi4sTtHvsgxBoHup2nXeyEBcNlvfaCm2b9q1552r/+U0CoUTAX9v3t88Kg2QlLlZAMS0JkIA5AhQXc7wYmwRIwCABiotBUIxGAiRgjgDFxRwvxiYBEjBIgOJiEBSjkQAJmCNAcTHHi7FJgAQMEqC4GATFaCRAAuYIUFzM8WJsEiABgwQoLgZBMRoJkIA5AhQXc7wYmwRIwCABiotBUIxGAiRgjgDFxRwvxiYBEjBIgOJiEBSjkQAJmCNAcTHHi7FJgAQMEqC4GATFaCRAAuYIUFzM8WJsEiABgwQoLgZBMRoJkIA5AhQXc7wYmwRIwCABiotBUIxGAiRgjgDFxRwvxiYBEjBIgOJiEBSjkQAJmCNAcTHHi7FJgAQMEqC4GATFaCRAAuYIUFzM8WJsEiABgwQoLgZBMRoJkIA5AhQXc7wYmwRIwCABiotBUIxGAiRgjgDFxRwvxiYBEjBIgOJiEBSjkQAJmCNAcTHHi7FJgAQMEqC4GATFaCRAAuYIUFzM8WJsEiABgwQoLgZBMRoJkIA5AhQXc7wYmwRIwCABiotBUIxGAiRgjgDFxRyvZBn77NmzMmzYMHn//fflgw8+kMjISOnWrZt8/PHH0rt3b4mOjpaodlHS9MOmUqtWLenUqZPs2bNHl9XevXvV/gYNGkjbtm2la9eu0qtXL5UX0rVo0UJq1qwpkydP1k3Pje4hQHFxT139ayU9d+6cjBgxQmrUqKHEI0+ePBIWFiapU6f2fPK/kl9q166t9vft21d+++033fL+/PPP0qFDB3nrrbckc+bMnnyQX9q0aaVEiRLy7rvvyjfffKObnhvdQ4Di4p66+tdKevfuXbly5YqcOnVKTpw4IWPHjpVHH31UCQNEoULFCrJ582Y5fvy4inP16lW5d++ebnlv374t6AkdPHhQpk2bJvny5VP5lClTRubOnSu7du2SY8eOyY0bN3TTc6N7CFBc3FNXjinpzJkzJUOGDEoUMmXKFPAQBgKE4dELL7wgW7dudcz5sSD2EKC42MMxWeXSs2dPT6+lcOHCsmXLloDO/8yZM1KlShVp0qRJQOmZyNkEKC7Orh/HlQ6CANsKhkP4wA5z+fLlgMq5du1aefvtt2XcuHEBpWciZxOguDi7fhxXug0bNsgrr7ziEZeOHTsGXMYxY8YoA26gPZ+AD8yESUKA4pIkmEPnIJMmTZIHH3xQicsjjzwi+B9owJQ2Zo2uXbsWaBZM52ACFBcHV44TiwafFm1IBHsLZokCCRheVa5cWfm1BJKeaZxPgOLi/DpyTAkxhWyXvWXNmjXK3oJpbYbQJEBxCc16DcpZbdy4UQoWLOjpuVixt4wePVqKFy8e8ExTUE6QmdpKgOJiK87QzmzKlCny0EMPeewtEydODPiE27RpI2+++aZcv3494DyY0NkEKC7Orh9Hla5Hjx6eXosVe8vp06dpb3FUzQanMBSX4HANuVyxvqhu3boecbHi37J69WopW7Ys/VtCrpXEPyGKS3we/JcAgU2bNkmhQoU84mLF3jJq9CgpWrxowDNN3kU8f/68TJ06Va3MxrQ41j4xOIMAxcUZ9eD4UuAC1uwtGTNmlAkTJgRc5latWyl7i1X/lr179qpV2I0aNZKZs2aqaW2sqA50ejzgE2JCXQIUF10s3OhLwHs9EWaMMHMUSMDK6kqVKln2bzl0+JBUrlJZsmfPLj/++KPs2btXtEdBjPh8RCBFYxqbCVBcbAYaitlh6FGvXj3PkKh69epy6dKlgE4VQmCHvQU9p7AUYfLee++pcixcuFBSpUwlL730kqxbvy6gsjGRvQQoLvbyDMncYG/B7JDmmYuHPQUaYmJipFixYpYesYDhFKayUZ7WrVurosDBb+GChbJ+/Xq5c+dOoMVjOhsJUFxshBmqWeGhTunSpVMXM9YTBWpvwUOnmjVrJm+88YYl/5YDBw6o3g/EZfDgwaGK3fXnRXFxfRUG/wQGDBjg6bXkz59f8KiEQAKeMgfHOTwz10pYtWqVPPXUU5IlSxaZPXu2layYNogEKC5BhBsqWXfu3NkjLuXLl5cjR44EdGqffvqpFClSRHbv3h1Qei3Rt99+KylTplTLB/bv369t5rfDCFBcHFYhTiyOt2cuHksZyPNtT548KRUrVpSIiIgEn6+b0LnjubuLFsVJly5d1NsGKlSooMQOM0UtW7USlK9Pnz7K3pJQHtye9AQoLknP3HVHxCLD8PBwdUFDHGA7MRuGDh0qefPmlRUrVphNqgy0S5YsVo5ynbt0lgIFCqiy4BtDtuju0dK/f39LRmLThWKCRAlQXBJFxAiY5s2WLZu6oPHuIqwNMhOQHk/5/+STT+TWrVtmknri3rx5Uz1OE+9DQg8IxlwM19CLunjxono7AWeJPLgc8YPi4ohqcHYhDh8+LOXKlVMXdNGiRWX79u2GC4zHYsLprnnz5nLhwgXD6RKKuGPHDvWYTcxewWuYwbkEKC7OrRvHlAzDILwBEbMz6dOnV0MQI4VbsGCBEoKqVauqdxoZSZNYnHnz5qllCLlz55aVK1cmFp37/0UCFJd/Eb6bDg2P3Hbt2qney+OPPy54d1FCAT2dli1byssvv6zS2DmjgyfXYUiEKe2E3uqYULm4PWkJUFySlrerj4Y3IWJWBm9bxMvQMNTBa1fhFQtD7fDhwwWLCAsXKayc3NDbwdsX7QzwkYG44HGbgdpv7CwP80qYAMUlYTbco0MARtPFixernknp0qWlzBtllO8KHscAt35ME+Nd0XgntN0BvSe8QA3iorn9230M5mcfAYqLfSyTVU5Y34OZmyU/LFHvfI6NjVU2kKNHjwaNw759+9TSgfDwFDJkCN3+gwbapowpLjaBZDbBJ6C5/T/2WBaZO3dO8A/II1giQHGxhI+Jk5LAl199qdz+sULbzHR4UpaRx/qHAMXlHxb85XACAwcNVPYWvEwNz5hhcDYBiouz64el+38CmBnq0LGDEhcsQWBwPgGKi/PriCUUEXjmYi1Rzpw5BY50DM4nQHFxfh0lyxLi6Xfjxo0TzBAhYDYKU9C1atWif4tLWgTFxSUVlZyKCUGpXKWKZMiQQS12xLlHR0fLAw88IHjrI4M7CFBc3FFPyaqUcNLDGqYcOXKo14Ts3btXPXi7fv36NOS6qCVQXFxUWcmlqHiwVMeOHdT6oaioKMFjHiIjI+XgwYPJBUFInCfFJSSqMfRO4sKF87J8+XLBWxRnzJgheLo/g7sIUFzcVV8sLQm4hgDFxTVVxYKSgLsIUFzcVV8sLQm4hgDFxTVVxYKSgLsIUFzcVV8sLQm4hgDFxTVVxYKSgLsIUFzcVV8sLQm4hgDFxTVVxYKSgLsIUFzcVV8sLQm4hgDFxTVVxYKSgLsIUFzcVV8sLQm4hgDFxTVVxYKSgLsIUFzcVV8sLQm4hgDFxTVVxYKSgLsIUFzcVV8sLQm4hgDFxTVVxYKSgLsIUFzcVV8sLQm4hgDFxTVVxYKSgLsIUFzcVV8sLQm4hgDFxTVVxYKSgLsIUFzcVV8sLQm4hgDFxTVVxYKSgLsIUFzcVV8sLQm4hgDFxTVVxYKSgLsIUFzcVV8sLQm4hgDFxTVVxYKSgLsIUFzcVV8sLQm4hgDFxTVVxYKSgLsIUFzcVV8sLQm4hgDFxTVVxYKSgLsIUFzcVV8sLQm4hgDFxTVVxYKSgLsIUFzcVV8sbTIhcO/evaCd6Z07d4KWt3fGFBdvGvxNAg4gMG/ePJk8eXLQSvLLL7/I559/Lr/++mvQjoGMKS5BxcvMkxuBq1evyuzZs2XAgAESGxsrf/75pykEM2fOkgYN6svy5ctNpTMT+cSJE9L3k75St05d2bRpk5mkpuJSXEzhYmQSSJjAkcNHpFmzZlKvXj2ZNGmStGnTRqpXry7btm1LOJHXni+//FIqVaoky5Yt9doanJ+nT5+WVi1byX//+1/5+eefg3IQiktQsDLTpCRw6dIlOXbsmPzxxx/y119/JeWhPcc6efKkNGzUUJ544gn5/vvv5dChQ1K4SBEJCwuTQYMGeeIl9OO7776TvHnzyqhRoxKKYvt2MIO4vP/++3Lu3Dnb86e42I6UGSYFAdxt0bWvVq2a+qC3gN/oKTRp0kSmTZsmFy5cSIqiqGN8++23kipVKnnnnXcExlhcWClShMszzzwjS35Y4rccv//+u5QuXVqqVq0q165d8xvX7p1z586Vp556Stlg7M6b4mI3UeYXVAKwaQwfPlzq1q0rEU0ipF27dtK/f39599135b333pP//e9/0rx5c2nUqJG0aNFCFi1aFNTyIPObN29Kly5dVC8Fx0XAsGN6bKzExcXJrdu3EizD3bt3ZeDAgfLiiy/Kxo0bE4wXrB3gCV7oNUHk7AwUFztpMq+gEtiwYYOyacCuAWMphiJa6Nevn4wfP179xdBo69at8tlnnynB6du3b1C6/dqxcVFWrlxZiUuvXr20zYa+t2/fLs8++6zUqlXLUPxgRIIIPProoxIdHW1r9hQXW3Eys2ARWLNmjbIN9OjRQw4cOBDvMLAX9OzZU/Vo4u0QkYULF6oL/+OPP5bLly/77rblP0QvV65ckjFjRvn6668N5wkR/OSTTyR16tQeYTSc2MaImD16++23JU+ePHLw4EHbcqa42IaSGQWLAHoGrVu3VnfW27dv33cYf+KCyHv27JGaNWvKkCFD7ktrxwYMfSAQBQoUUMcymufx48fVRf3yyy8rA7DRdHbHg8hhaIlzGDdunG3ZO1Zchg4bJuHh4aqrWapUKdm1a5flk163fr3yP2jbtq1MmTJFMN7UCzDIrV69Wn788UfRa8x6aZLjNnTpYS+IioqSsWPHysWLFxPEAH+KpUuXyo0bNxKMo7fj7r27MmjwIGn8QWM5c+aMXhQ15Emo56IlmD9/vhoirVu3TtsU8Dc8XNE2+vfvpwQLwoVZIRhvO3TooOw+EDL0aPyFlStXqt5O7dq1lRHYX1zvfRgOQgTQi+varavMmDHDY7xG7wxDRgwT8ZkzZ45cuXLFO7nu78WLF0vatGmlcePGuvsD2egtLrlz55YVK1YEko0nTRjuMlY/cDzq0rWrpEiRwjZxiY39Wjp16qQ8H2vXqiVPZM2qpv30pi7RKAoWLKiMhPv37/ecHH/8Q2DBgvnSrl17mTJ1qjSJiJDHH39c3f1g3PQNuDG8/vrrUqZMGdmxY4fvbr//ly5bKtVrVJdly5YlGC+xngsSQtRwd4bxElPXVgLEBb2VqKi2Etk2Ul555RXVTl/Ik0e6desmUe2ipGvXruoG5e84o0ePVukQ12hYu3attG/fTtmTkL53n95StmxZ6dy5s2ILz1vYfeBnA8HNnz+/wOaUWEAdPffcc1K8eHE5e/ZsYtEN7fcWl+zZswv8eNBbC1QfwsqVKydWP3AkgtLhboCP1Z7L0qU/SMOGDQXqjLAoLk5ShoerfI8cOXIfKFQGjvvmm2/aOga970Au3bBx4wY1GzNz5kx1Bhs3bJD06dOriwyu5b5Bu4gKFSpkqgeKHmTHjh2lQYMGvlnG+29EXJAAdhu0A39CFS9jP3+uX78u58+flz1796gpZLSXli1bqt7wmbNnVE/CX68XIty+fXvVzoYNG+bnSP/sQu+vTp068sUXX8TrAeKm+eCDD8prr72mho9Hjx5ViYYOHaryL1KkSKI9I9ixcAOAcRmc7Aje4oLy4YZdoUKFgPUhTBMEO7+tiAu6iREREcpwpgGDa3bKlCmlYsWK902/odIxnYjyo/L9NRAtv+T0DT+Mjh07qSlg7bwxS5MmTRrVuPft26dtVt/gB4EAz/r168e7KOJF1PkDJy900zH08heMigvioeeC3oVdAWJaokQJeeCBB2TMmDGGs0XvoF79ekoUpk6dmmg6DIUw5AJL3zBx4kTFN0uWLLIwbqHaDeFr1ryZYBvae2ILIWHUxVQ+Zo1mzZrle4iA/nuLi0168Hdvw6bMFDQr4gLXa3QZ0Z1EOH/hvHK2Qvkw9eYrHrg44NCE/bjjMsQnsHfvXnVxav4jl69cVo0YvDBF7DssQhcYPVHs7927d/zMEvmHOyhc6Ddv3pxITJFPP/3U0IwLZo3gbGdXgB3p4YcfFnT7NSZG8kbvAr45WbNmFdiDEgsYHrZo2UJ8h+kYomG4B74YMWh2RIgJhjrIOyFblfcxIUZwPkQPA2JlR7BdXODqbPWDbiLcku2wuWCMB8FANxZhwcIFqkKh6PBO9A1YdPaf//xHuXHb0X32zd/t/2EPg3es1ojXrF2jutKZMmVSRnLf88MCvCeffFIyZ84scHE3E8AfQo+LEL1PNH7fD7bDOxczLsWKFUswnpYO9pEaNWqYKYbfuLAj4MJG70VvSJhQYrTJkiVLquH/+vXrE4rm2Y7h+5atWzz/tR+oD/QIUYbIyEhts+lv3BRwE8Y1N2TIYNPp9RJ4iwvqH3WAaztQfQjTO0gg20aOHGn7bBHK0bVLV1URcLXGWhTf0KdPH7UfDRp3XQb/BLRx/RtvvCGHDx++L7Jmb0Hv03fIdF9knw1onOXLl1fDVPQy0fh9PxjioHcDQyRsZDBm+sbR/mMf7BKY3bErYMiGC7tKlSqeG5iRvPG4A4jL888/b8kzd8uWLUqg0Huy8piGW7duKW6YoR0+/DMjp5BoHG9xwXlanamzTVwGDhpku7icOnVK2VnQGNCV9A1Qbxj8sB/2Fr2ZJN80yfk/utLaXRO8fMf13vYWcPUdMiXGDu4AuBsn9lgAXBhwRjNi8+jevbttwyL03lA+tBezU7gYFsG4+fTTT6sp+sRYJLQf9hHYDzErBNeAQANm0GCPgkhhKtuO4C0ucDJcssT/GqvEjulocUE3Gyf50EMPKd8A35PB3USzt8SMjvHdzf8+BGALQaOG8xX8XHwDLiDNLR6LDM0GpMewB70jfwEiB1sKpmH9BSxkxHojrAOyI2DlM4bvEJc+fczZk7D2qHad2mq4iKF4IAH2FqylwvHRw/Nd9Ij9MNTCNJBYwI0XPTqInVV/FO1YyUpcsFI2Xbp0ys1Zr4uGpfKwt2TLlk2WLU/Yr0KDl9y/FyxYoC4OtfJX564ERzOwxHh79hzzFxAuDjjo2TUVjYWBECszhld/dYz8cuV6TjJlekSmTzd3t0dvC86cEGYjs0UQDvhfeRt0MeOkzWyi1+EbYANCj87IgkiYAGAQfumll2T37t2+WQX0P1mJC7p7EBf0TvTG//AXwF0AsxtHf//bVyAgqskkERzJIMZwe9frkmMGBzzB2/uiMIMHa4OqV68ma9cm7HthZCoaQgX7yIcffujxZjVTDr24383+TtKkSS358uVL1BtXL33MqBjFp3uP7nq7PdsgRPAoL1CwgBq6aJMTK1auUFPHECi9pQ2wd2FBJHpJiQUskXjhhRekaNGicvasvid0Ynn47k9W4oKpuTwv5lEV4q3msBWgS41ZDVwM7TvQ3uLbUPT+w/GqWPFikiFDBvX8Eu84MC7mzJlT8cTdFRdIIAF2GnT9mzZtmqDnqBFxgRDCjwN2HLvCyJiR6vyw6A/DCrNh5YqV8sgjj0jV96rKX3cSfsgVfFwwwYC2CUc9BAwFo7tHK2MujLC+/i8Qvrr16hq256AXiufRYObt7l17HuCdrMQFBtoJEyZItiezKZdp/Ia6YxYBs0e4C6MCR8Uk3dPAzDZIJ8XHs0iwrgVu45j5wHoXeI/CnwXj98cee0zxxAyclYAu+wcffKDqSS+fxMQFvSY8/2XwYHumWFEGiGW36G7q/HBB+hqz9crpuw3nhV5dwQIFRc9TXIsPYyvaKIaXbdtGyldffaUc6jApAbGEf1GOHDmUmz+mxsG7bVRbQ/4zOAbqEQIOL2uktyskK3HRoGEZABZ9oXIw7w6g+A3fFyw70LPHaGn5fT8BLMCDQRXLJvAMFfRawBU9QTzlTFt2cX9K41twEcGjGlPP3s9xQQ7+xAUNHNPEKB/i2RVQBvjL4G4PD9hAAgQK5ULPLzGvWBwPcaZMmSwxMTGqzWqCBCc5PB4TeeFmCY9pTFEbDeCCR13COG/E4c5ovslKXOCH4d3A0LXUwkcffaTuQjCMGVlFqqVLzt9wz4cTlxYwGwPbBgJsAOgFotH6Wy2tpTXyvWrVKjU8gjMWbBCanxKmhDHFDGFDwEX706YfsC4AAARQSURBVE8/qYseQyFc/EZmTIyUQYsDoydsFHhmLsoVaMBDrdDrqF2rtqEs0MtIaGW5v33+MofhHTOo8BeyMyQLcYGg4NGIcPTyfQAylBoNE4/5wzND0CgZ/BPAei3cHWFrwGyE95AAwoxeIO6CmJnRll34z9H4Xtg2MJyFty+mWTFdjV4Nek3oLcGuhu1YpoAy6nlhGz/a3zFxDAgXHqk5ffp0tRE+NRhGoAdsZZU1xHjO3DlqxTgM4BK8d6HpnvbWbVuVvw0E2+63ACQLccGdE+7ZGPZ4z+HDOQtdZhjVcJEEanTUrbUQ3oieAvxXcLfz9tHYsXOHcqqDIxZm3qxcdEbxYbgAQdm5c6f6xiyg3cdFm8HCRHxg+MRwBDNkGKbZ9XgC2FFgAB/3hX0Pa0qM4YkTx6VK1SrK/mg3Mxw7WYgLTnTmrJnSpEmEGpfClRwrTOFd2rBhA2WUpDduYk0x/n7YUdAz6dmzh+r5YbYCXrgwnMJvQ5sujZ/Knf/QE4qMbKMe0YFeLs4R52r22TT+zh5DnQGfDpC8+fLKvPnz/EW1ZR9MAjAOY8mEXX4tvgVLNuKCE9+8eZMaFmHWAF6fuOteuPCP3cUXDv/7J7Br104ZPTpGsQRTzBx522D8p3bX3nPnzgpes4rhNWbEYG+yO2C4iaFRpcqV7pvat/NYGFpi6Ipei5FFk4EeO1mJS6CQmI4EkooAhuYYImm2nWAc9/CRw2r4pbfK2s7jUVzspMm8SMAmAsGcsYRj4u2/7n/QuU1F92RDcfGg4A8SIAE7CVBc7KTJvEiABDwEKC4eFPxBAiRgJwGKi500mRcJkICHAMXFg4I/SIAE7CRAcbGTJvMiARLwEKC4eFDwBwmQgJ0EKC520mReJEACHgIUFw8K/iABErCTAMXFTprMiwRIwEOA4uJBwR8kQAJ2EqC42EmTeZEACXgIUFw8KPiDBEjATgIUFztpMi8SIAEPAYqLBwV/kAAJ2EmA4mInTeZFAiTgIeAKcXnrrbfUU949peYPEiABxxPAW03xqlm8YiZXrlyyROd94mZOIsxMZH9xBw4aJHhNJQqG97rggdp47i3eh8MPGbANOLsN4FrFe7m1a9ix4gKB4YcM2Abc2wYcJS79+venoFBU2QZCpA3g1b5xcXH+BiuJ7rNtWBQbG6te0v3aa6/J66+/zg8ZsA24tA28+uqrUrtObcFLCK0E28TlzOnT8d6kh7fq8UMGbAPuawN4eZx6E+blS1a0RWwTF0ulYGISIIGQI0BxCbkq5QmRgDMIUFycUQ8sBQmEHAGKS8hVKU+IBJxBgOLijHpgKUgg5AhQXEKuSnlCJOAMAhQXZ9QDS0ECIUeA4hJyVcoTIgFnEKC4OKMeWAoSCDkCFJeQq1KeEAk4gwDFxRn1wFKQQMgRoLiEXJXyhEjAGQQoLs6oB5aCBEKOAMUl5KqUJ0QCziBAcXFGPbAUJBByBP4PbLX6iVfx+1MAAAAASUVORK5CYII=)\n"
   ]
  },
  {
   "cell_type": "markdown",
   "id": "canadian-leonard",
   "metadata": {},
   "source": [
    "The oracle takes two qubits as inputs - $x$ and $y$. It performs an **XOR** operation on $y$ - the output is $y \\oplus f(x)$. $x$ is unchanged. Let us check if this produced unique outputs:"
   ]
  },
  {
   "cell_type": "markdown",
   "id": "whole-pizza",
   "metadata": {},
   "source": [
    "For the first case,\n",
    "\n",
    "| Input $$x$$ | Input $$y$$ |$$f(x)$$|$$y \\oplus f(x)$$|\n",
    "|:----:|:------:|:------:|:------:|\n",
    "| 0 | 0 | 0 | 0 |\n",
    "| 0 | 1 | 0 | 1 |\n",
    "| 1 | 0 | 0 | 0 |\n",
    "| 1 | 1 | 0 | 1 |\n",
    "\n",
    "Here, we notice that $y \\oplus f(x) = y$, which makes sense since $f(x) = 0$ and $y \\oplus 0 = y$\n",
    "\n",
    "For the second case,\n",
    "\n",
    "| Input $$x$$ | Input $$y$$ |$$f(x)$$|$$y \\oplus f(x)$$|\n",
    "|:----:|:------:|:------:|:------:|\n",
    "| 0 | 0 | 1 | 1 |\n",
    "| 0 | 1 | 1 | 0 |\n",
    "| 1 | 0 | 1 | 1 |\n",
    "| 1 | 1 | 1 | 0 |\n",
    "\n",
    "Here, we notice that $y \\oplus f(x) = \\bar{y}$, which makes sense since $f(x) = 1$ and since $y \\oplus 1 = \\bar{y}$\n",
    "\n",
    "For the third case,\n",
    "\n",
    "| Input $$x$$ | Input $$y$$ |$$f(x)$$|$$y \\oplus f(x)$$|\n",
    "|:----:|:------:|:------:|:------:|\n",
    "| 0 | 0 | 0 | 0 |\n",
    "| 0 | 1 | 0 | 1 |\n",
    "| 1 | 0 | 1 | 1 |\n",
    "| 1 | 1 | 1 | 0 |\n",
    "\n",
    "Here, we notice that $y \\oplus f(x) = y \\oplus x$, which makes sense, since $f(x) = x$. This is a CNOT between x and y!\n",
    "\n",
    "For the last case,\n",
    "\n",
    "| Input $$x$$ | Input $$y$$ |$$f(x)$$|$$y \\oplus f(x)$$|\n",
    "|:----:|:------:|:------:|:------:|\n",
    "| 0 | 0 | 1 | 1 |\n",
    "| 0 | 1 | 1 | 0 |\n",
    "| 1 | 0 | 0 | 0 |\n",
    "| 1 | 1 | 0 | 1 |\n",
    "\n",
    "Here, we notice that $y \\oplus f(x) = y \\oplus \\bar{x}$, which makes sense, since $f(x) = \\bar{x}$. This is a CNOT between $\\bar{x}$ and y!\n",
    "\n",
    "\n",
    "Notice how, by using the oracle formulation, we've transformed the problem into a reversible operator on the inputs."
   ]
  },
  {
   "cell_type": "markdown",
   "id": "marine-tonight",
   "metadata": {},
   "source": [
    "Let us make each of these oracles. We will define a function for the constant oracles, and a separate function for the balanced oracles. Each function will have two inputs (which of the two choices for constant or balanced oracle we want) and the quantum circuit to which we want to add the oracle."
   ]
  },
  {
   "cell_type": "markdown",
   "id": "owned-platinum",
   "metadata": {},
   "source": [
    "First let us define the constant oracle function. Here, we'll fix the convention that if the first input is 0, we want the case where $f(x) = 0$, and if it is one, we want $f(x) = 1$"
   ]
  },
  {
   "cell_type": "code",
   "execution_count": 1,
   "id": "printable-gather",
   "metadata": {},
   "outputs": [],
   "source": [
    "def constant_oracle(n,qc):\n",
    "    if (n==0):  # We want to oracle with f(x) = 0\n",
    "        pass\n",
    "    else:  # We want to oracle with f(x) = 1\n",
    "        qc.x(1)"
   ]
  },
  {
   "cell_type": "markdown",
   "id": "frequent-expression",
   "metadata": {},
   "source": [
    "Next, let us define the balanced oracle function. Here, we'll fix the convention that if the first input is 0, we want the case where $f(x) = x$, and if it is one, we want $f(x) = \\bar{x}$"
   ]
  },
  {
   "cell_type": "code",
   "execution_count": 2,
   "id": "republican-marshall",
   "metadata": {},
   "outputs": [],
   "source": [
    "def balanced_oracle(n,qc):\n",
    "    if (n==0):  # We want the balanced oracle where f(x) = x. In this case, the outputs correspond to a CNOT function\n",
    "        qc.cx(0,1)\n",
    "    else: # We want the balanced oracle where f(x) = \\bar{x}\n",
    "        qc.x(0)\n",
    "        qc.cx(0,1)"
   ]
  },
  {
   "cell_type": "code",
   "execution_count": 3,
   "id": "accompanied-waste",
   "metadata": {},
   "outputs": [],
   "source": [
    "# Don't forget to import our favorite library: Qiskit\n",
    "import qiskit as q"
   ]
  },
  {
   "cell_type": "code",
   "execution_count": 8,
   "id": "fatal-onion",
   "metadata": {},
   "outputs": [
    {
     "data": {
      "image/png": "[encoded data removed]",
      "text/plain": [
       "<Figure size 327.252x204.68 with 1 Axes>"
      ]
     },
     "execution_count": 8,
     "metadata": {},
     "output_type": "execute_result"
    }
   ],
   "source": [
    "# Let's create a simple quantum circuit to show our oracle. In this notebook,\n",
    "# we use barriers to divide some importan steps/ changes (e.g. our oracle)\n",
    "qc = q.QuantumCircuit(2,2)\n",
    "qc.barrier()\n",
    "oracle = balanced_oracle(1,qc)\n",
    "qc.barrier()\n",
    "qc.draw('mpl')"
   ]
  },
  {
   "cell_type": "markdown",
   "id": "authorized-technique",
   "metadata": {},
   "source": [
    "<a id=\"djfull\"></a>\n",
    "## 3.2 The Deutsch-Josza Algorithm implementation"
   ]
  },
  {
   "cell_type": "markdown",
   "id": "greatest-bones",
   "metadata": {},
   "source": [
    "Now, we will implement the full DJ algorithm. First, let's create a function to call one of our oracles at random. Our problem will be to figure out if the oracle is constant or balanced."
   ]
  },
  {
   "cell_type": "code",
   "execution_count": 9,
   "id": "facial-poison",
   "metadata": {},
   "outputs": [],
   "source": [
    "from random import getrandbits"
   ]
  },
  {
   "cell_type": "code",
   "execution_count": 10,
   "id": "frozen-temperature",
   "metadata": {},
   "outputs": [],
   "source": [
    "def random_oracle(qc):\n",
    "    if(getrandbits(1)==0):\n",
    "        constant_oracle(getrandbits(1),qc)\n",
    "    else:\n",
    "        balanced_oracle(getrandbits(1),qc)"
   ]
  },
  {
   "cell_type": "markdown",
   "id": "compact-punch",
   "metadata": {},
   "source": [
    "Here are the steps of the DJ algorithm for a single-bit function:\n",
    "1. Initiate a quantum circuit of two qubits\n",
    "2. Apply an X gate to $q_1$\n",
    "3. Apply H gates to both $q_0$ and $q_1$\n",
    "4. Apply the oracle to $q_0$ and $q_1$\n",
    "5. Apply H gates to both $q_0$ and $q_1$\n",
    "6. Measure $q_0$. If the result is 0, the oracle is constant. If it is 1, the oracle is balanced.\n",
    "\n",
    "Notice that we only invoked the oracle (i.e. applied the function) once in this algorithm."
   ]
  },
  {
   "cell_type": "code",
   "execution_count": 18,
   "id": "tribal-wiring",
   "metadata": {},
   "outputs": [
    {
     "data": {
      "image/png": "[encoded data removed]",
      "text/plain": [
       "<Figure size 748.652x204.68 with 1 Axes>"
      ]
     },
     "execution_count": 18,
     "metadata": {},
     "output_type": "execute_result"
    }
   ],
   "source": [
    "qc = q.QuantumCircuit(2,2)\n",
    "qc.x(1)    # Step 2\n",
    "qc.barrier()\n",
    "qc.h(0)    # Step 3\n",
    "qc.h(1)    # Step 3\n",
    "qc.barrier()\n",
    "random_oracle(qc)  # Step 4\n",
    "qc.barrier()\n",
    "qc.h(0) # Step 5\n",
    "qc.h(1) # Step 5\n",
    "qc.barrier()\n",
    "qc.measure([0,1],[0,1]) # Step 6\n",
    "qc.draw('mpl')"
   ]
  },
  {
   "cell_type": "code",
   "execution_count": 19,
   "id": "expected-tunnel",
   "metadata": {},
   "outputs": [
    {
     "name": "stdout",
     "output_type": "stream",
     "text": [
      "{'11': 1024}\n"
     ]
    }
   ],
   "source": [
    "# Let's see the results\n",
    "backend = q.Aer.get_backend('qasm_simulator')\n",
    "job = q.execute (qc, backend, shots = 1024)\n",
    "results = job.result()\n",
    "counts = results.get_counts(qc)\n",
    "print(counts)"
   ]
  },
  {
   "cell_type": "markdown",
   "id": "helpful-selling",
   "metadata": {},
   "source": [
    "<a id=\"challenge\"></a>\n",
    "## One possible idea to develop in the future\n",
    "\n",
    "In this notebook we looked at the Deutsch-Josza oracle for a function that takes a single-bit as input. Is it possible to create an implementation of the Deutsch-Josza oracle for a function that takes 2-bit inputs?\n",
    "\n",
    "If the function still produces 1-bit output, in this case, the function is constant if the output is 0 for all 4 input combinations, and it is balanced if the output is 0 for two input combinations and 1 for the other two. Maybe we have to understand how to implement the DJ algorithm with this oracle. Can we generalize this to n bits?"
   ]
  }
 ],
 "metadata": {
  "colab": {
   "collapsed_sections": [],
   "name": "QxQ Search Algorithms.ipynb",
   "provenance": []
  },
  "kernelspec": {
   "display_name": "Python 3",
   "language": "python",
   "name": "python3"
  },
  "language_info": {
   "codemirror_mode": {
    "name": "ipython",
    "version": 3
   },
   "file_extension": ".py",
   "mimetype": "text/x-python",
   "name": "python",
   "nbconvert_exporter": "python",
   "pygments_lexer": "ipython3",
   "version": "3.8.8"
  }
 },
 "nbformat": 4,
 "nbformat_minor": 5
}
